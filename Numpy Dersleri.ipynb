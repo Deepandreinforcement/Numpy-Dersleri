{
 "cells": [
  {
   "cell_type": "markdown",
   "metadata": {},
   "source": [
    "# Neden Numpy"
   ]
  },
  {
   "cell_type": "markdown",
   "metadata": {},
   "source": [
    "Numpy önemli bir yapay zeka kütüphanesidir. Tensorflow ya da scikit-learn kütüphanelerinin sahip olduğu fonksiyonlar gibi yapay zekada işi çok kolaylaştıran komutları  olmamasına karşın vektör işlemlerini sağladığı için önemlidir. Yapay zekada vektörleşme kullanılır, bu sayede çok daha daha az for döngüsü kullanılacağı için işlemler çok daha hızlı olur. Örneğin bir python listesindeki her bir elemanın karesini almak için for döngüsüne ihtiyaç duyarken numpy vektörlerinde böyle bir gerek yoktur."
   ]
  },
  {
   "cell_type": "code",
   "execution_count": 1,
   "metadata": {},
   "outputs": [
    {
     "name": "stdout",
     "output_type": "stream",
     "text": [
      "164.76255780577262\n"
     ]
    }
   ],
   "source": [
    "import numpy as np\n",
    "import time\n",
    "\n",
    "x1= list(range(1000000)) # 1 milyon boyutlu bir bir python listesi oluşturduk\n",
    "start1=time.time() # zamanı başlattık\n",
    "x2=[i**2 for i in x1] # listedeki her bir elemanın karesini for döngüsü kullanarak aldık\n",
    "time1=time.time()-start1 # yukarıdaki işlemin ne kadar sürdüğünü ölçtük\n",
    "\n",
    "y1=np.arange(1000000) # 1 milyon boyutlu bir numpy array oluşturduk\n",
    "y1=np.array(y1,np.int64) # veri tipini değiştirdik, kare alma işleminde hafızadan taşma sorunu olmasın diye\n",
    "start2=time.time()# zamanı başlattık\n",
    "y2=y1**2 # vektördeki her bir elemanın karesini aldık\n",
    "time2=time.time()-start2 # yukarıdaki işlemin ne kadar sürdüğünü ölçtük\n",
    "print(time1/time2) # Burada ilk işlem ikinci işlemin yaklaşık 80 katı sürüyor.\n",
    "# for döngüsüne ihtiyaç olmadığı için numpy ile çok daha hızlı sonuçlar alıyoruz. \n"
   ]
  },
  {
   "cell_type": "markdown",
   "metadata": {},
   "source": [
    "# Ders 1 Temel Komutlar"
   ]
  },
  {
   "cell_type": "code",
   "execution_count": 2,
   "metadata": {},
   "outputs": [
    {
     "name": "stdout",
     "output_type": "stream",
     "text": [
      "[1, 2, 3, 4]\n",
      "[1 2 3 4]\n",
      "<class 'list'>\n",
      "<class 'numpy.ndarray'>\n",
      "Boyutu: (4,)\n",
      "Boyut sayısı: 1\n",
      "Toplam eleman sayısı: 4\n",
      "Elemanların veri tipi: int32\n"
     ]
    }
   ],
   "source": [
    "import numpy as np # kütüphaneyi dahil ediyoruz.\n",
    "x=[1,2,3,4] # python listesi oluşturduk\n",
    "y=np.array(x) # listeyi numpy vektöre dönüştürdük. Ayrıca bunların bir diğer adı ndarray\n",
    "print(x)\n",
    "print(y)\n",
    "\n",
    "print(type(x))\n",
    "print(type(y))\n",
    "print(\"Boyutu:\",y.shape)\n",
    "print(\"Boyut sayısı:\",y.ndim)\n",
    "print(\"Toplam eleman sayısı:\",y.size)\n",
    "print(\"Elemanların veri tipi:\",y.dtype)\n"
   ]
  },
  {
   "cell_type": "code",
   "execution_count": 3,
   "metadata": {},
   "outputs": [
    {
     "name": "stdout",
     "output_type": "stream",
     "text": [
      "0\n",
      "1\n",
      "2\n",
      "3\n"
     ]
    }
   ],
   "source": [
    "x = np.array(16) # 0 boyutlu matris, skaler \n",
    "y = np.array([1, 2, 3, 4, 5])  # 1 boyutlu, matris \n",
    "z = np.array([[1, 2, 3], [4, 5, 6]])  # 2 boyutlu matris \n",
    "w = np.array([[[1, 2, 3], [4, 5, 6]], [[1, 2, 3], [4, 5, 6]]])  # 3 boyutlu matris \n",
    "print(x.ndim)\n",
    "print(y.ndim)\n",
    "print(z.ndim)\n",
    "print(w.ndim)"
   ]
  },
  {
   "cell_type": "code",
   "execution_count": 4,
   "metadata": {},
   "outputs": [
    {
     "name": "stdout",
     "output_type": "stream",
     "text": [
      "[[[[[1 2 3 4]]]]]\n",
      "number of dimensions : 5\n"
     ]
    }
   ],
   "source": [
    "\n",
    "x = np.array([1, 2, 3, 4], ndmin=5) # Burada boyut sayısını 5 olarak belirledik\n",
    "\n",
    "print(x)\n",
    "print('number of dimensions :', x.ndim)"
   ]
  },
  {
   "cell_type": "code",
   "execution_count": 5,
   "metadata": {},
   "outputs": [
    {
     "name": "stdout",
     "output_type": "stream",
     "text": [
      "[0 3 4]\n",
      "[1. 2. 3. 4.]\n"
     ]
    }
   ],
   "source": [
    "y=np.array([0.5,3.7,4.8],dtype=np.int32)\n",
    "x=np.array([1,2,3,4],dtype=np.float64) # veri tipini float yaptık\n",
    "print(y)\n",
    "print(x)"
   ]
  },
  {
   "cell_type": "code",
   "execution_count": 6,
   "metadata": {},
   "outputs": [
    {
     "name": "stdout",
     "output_type": "stream",
     "text": [
      "[0.+0.j 1.+0.j 2.+0.j]\n"
     ]
    }
   ],
   "source": [
    "x=np.array([0,1,2])\n",
    "x=x.astype(np.complex128) # veri tipini kompleks sayı yaptık\n",
    "print(x)"
   ]
  },
  {
   "cell_type": "code",
   "execution_count": 7,
   "metadata": {},
   "outputs": [
    {
     "name": "stdout",
     "output_type": "stream",
     "text": [
      "[0.+0.j 0.+2.j 3.+0.j]\n",
      "[0. 0. 3.]\n",
      "[0. 2. 0.]\n"
     ]
    }
   ],
   "source": [
    "x=np.sqrt(np.array([0,-4,9],dtype=np.complex128)) # vektörü karekökünü aldık.\n",
    "# Burada negatif sayının da karekökü olduğu için veri tipi kompleks olmalı\n",
    "print(x)\n",
    "print(x.real) # vektördeki sayıların reel kısımları\n",
    "print(x.imag) # vektördeki sayıların sanal kısımları"
   ]
  },
  {
   "cell_type": "code",
   "execution_count": 8,
   "metadata": {},
   "outputs": [
    {
     "name": "stdout",
     "output_type": "stream",
     "text": [
      "[2.5 4.5]\n"
     ]
    }
   ],
   "source": [
    "x=np.array([1,2])\n",
    "y= np.array([1.5,2.5])\n",
    "print(x+y) # burada iki farklı veri tipi olduğu için işlemler üst olan veri tipinde yapılır. Burada float daha üst veri tipi"
   ]
  },
  {
   "cell_type": "code",
   "execution_count": 9,
   "metadata": {},
   "outputs": [
    {
     "name": "stdout",
     "output_type": "stream",
     "text": [
      "[0 1 2 3 4 5 6]\n"
     ]
    }
   ],
   "source": [
    "x=np.array([0,1,2,3,4,5,6])\n",
    "np.save('x_array',x) # x vektörünü bu adla kaydettik\n",
    "y=np.load('x_array.npy') # vekörü yükleyip y'ye atadık\n",
    "print(y)"
   ]
  },
  {
   "cell_type": "markdown",
   "metadata": {},
   "source": [
    "# Ders 2 Özel Vektör ve Matrisler Oluşturma"
   ]
  },
  {
   "cell_type": "code",
   "execution_count": 10,
   "metadata": {},
   "outputs": [
    {
     "name": "stdout",
     "output_type": "stream",
     "text": [
      "[0 1 2 3 4]\n"
     ]
    }
   ],
   "source": [
    "import numpy as np \n",
    "x=np.arange(5)# 0'dan 5'e kadar, 5 dahil değil, 5 elemanlı vektör oluşturduk\n",
    "print(x)"
   ]
  },
  {
   "cell_type": "code",
   "execution_count": 11,
   "metadata": {},
   "outputs": [
    {
     "name": "stdout",
     "output_type": "stream",
     "text": [
      "[4 5 6 7 8]\n"
     ]
    }
   ],
   "source": [
    "y=np.arange(4,9)# 4'ten 9'a kadar,9 dahil değil,  vektör oluşturduk\n",
    "print(y)"
   ]
  },
  {
   "cell_type": "code",
   "execution_count": 12,
   "metadata": {},
   "outputs": [
    {
     "name": "stdout",
     "output_type": "stream",
     "text": [
      "[ 3  7 11 15 19]\n"
     ]
    }
   ],
   "source": [
    "z=np.arange(3,23,4) # 3'ten 23'e kadar,23 dahil değil, dörder dörder artan vektör oluşturduk\n",
    "print(z)"
   ]
  },
  {
   "cell_type": "code",
   "execution_count": 13,
   "metadata": {},
   "outputs": [
    {
     "name": "stdout",
     "output_type": "stream",
     "text": [
      "[ 0.  3.  6.  9. 12. 15. 18.]\n"
     ]
    }
   ],
   "source": [
    "x=np.linspace(0,18,7) # 0 ile 18 arasında, 18 dahil, eşit aralıklı 7 tane sayı\n",
    "print(x)"
   ]
  },
  {
   "cell_type": "code",
   "execution_count": 14,
   "metadata": {},
   "outputs": [
    {
     "name": "stdout",
     "output_type": "stream",
     "text": [
      "[ 0.          0.40816327  0.81632653  1.2244898   1.63265306  2.04081633\n",
      "  2.44897959  2.85714286  3.26530612  3.67346939  4.08163265  4.48979592\n",
      "  4.89795918  5.30612245  5.71428571  6.12244898  6.53061224  6.93877551\n",
      "  7.34693878  7.75510204  8.16326531  8.57142857  8.97959184  9.3877551\n",
      "  9.79591837 10.20408163 10.6122449  11.02040816 11.42857143 11.83673469\n",
      " 12.24489796 12.65306122 13.06122449 13.46938776 13.87755102 14.28571429\n",
      " 14.69387755 15.10204082 15.51020408 15.91836735 16.32653061 16.73469388\n",
      " 17.14285714 17.55102041 17.95918367 18.36734694 18.7755102  19.18367347\n",
      " 19.59183673 20.        ]\n"
     ]
    }
   ],
   "source": [
    "y=np.linspace(0,20) # 0 ile 20 arasında 50 tane sayı, kaç tane sayı olacağı söylenmezse varsayılan değer 50\n",
    "print(y)"
   ]
  },
  {
   "cell_type": "code",
   "execution_count": 15,
   "metadata": {},
   "outputs": [
    {
     "name": "stdout",
     "output_type": "stream",
     "text": [
      "[ 0.   0.4  0.8  1.2  1.6  2.   2.4  2.8  3.2  3.6  4.   4.4  4.8  5.2\n",
      "  5.6  6.   6.4  6.8  7.2  7.6  8.   8.4  8.8  9.2  9.6 10.  10.4 10.8\n",
      " 11.2 11.6 12.  12.4 12.8 13.2 13.6 14.  14.4 14.8 15.2 15.6 16.  16.4\n",
      " 16.8 17.2 17.6 18.  18.4 18.8 19.2 19.6]\n"
     ]
    }
   ],
   "source": [
    "z=np.linspace(0,20,endpoint=False) # 0 ile 20 arasında 50 tane sayı, 20 dahil değil\n",
    "print(z)"
   ]
  },
  {
   "cell_type": "code",
   "execution_count": 16,
   "metadata": {},
   "outputs": [
    {
     "name": "stdout",
     "output_type": "stream",
     "text": [
      "[[0 1]\n",
      " [2 3]]\n",
      "[[0 1]\n",
      " [2 3]]\n"
     ]
    }
   ],
   "source": [
    "x=np.arange(4)\n",
    "x=np.reshape(x,(2,2)) # matrisin botuyunu değiştirdik\n",
    "print(x)\n",
    "y=np.arange(4).reshape(2,2) # yukarıdaki işlemi tek satırda yaptık\n",
    "print(y)"
   ]
  },
  {
   "cell_type": "code",
   "execution_count": 17,
   "metadata": {},
   "outputs": [
    {
     "name": "stdout",
     "output_type": "stream",
     "text": [
      "[0. 0. 0. 0.]\n"
     ]
    }
   ],
   "source": [
    "x=np.zeros(4) # 0'lardan oluşan 4 boyutlu vektör, veri tipi float64\n",
    "print(x)"
   ]
  },
  {
   "cell_type": "code",
   "execution_count": 18,
   "metadata": {},
   "outputs": [
    {
     "name": "stdout",
     "output_type": "stream",
     "text": [
      "[1. 1. 1. 1.]\n"
     ]
    }
   ],
   "source": [
    "y=np.ones(4) # 1'lerden oluşan 4 boyutlu vektör, veri tipi float64\n",
    "print(y)"
   ]
  },
  {
   "cell_type": "code",
   "execution_count": 19,
   "metadata": {},
   "outputs": [
    {
     "name": "stdout",
     "output_type": "stream",
     "text": [
      "[[0. 0. 0.]\n",
      " [0. 0. 0.]]\n"
     ]
    }
   ],
   "source": [
    "z=np.zeros((2,3)) # 2x3 boyutunda 0 matrisi\n",
    "print(z)"
   ]
  },
  {
   "cell_type": "code",
   "execution_count": 20,
   "metadata": {},
   "outputs": [
    {
     "name": "stdout",
     "output_type": "stream",
     "text": [
      "[[10 10 10]\n",
      " [10 10 10]]\n",
      "[[10. 10. 10.]\n",
      " [10. 10. 10.]]\n",
      "[[10. 10. 10.]\n",
      " [10. 10. 10.]]\n"
     ]
    }
   ],
   "source": [
    "x=np.full((2,3),10)  # 10'lardan oluşan 2x3 boyutunda matris\n",
    "print(x)\n",
    "y=10*np.ones((2,3))  # yukarıdaki ile aynı matrisi oluşturuyoruz, veri tipi farklı\n",
    "print(y)\n",
    "z=10+np.zeros((2,3))  # yukarıdaki ile aynı matrisi oluşturuyoruz, veri tipi farklı\n",
    "print(z)"
   ]
  },
  {
   "cell_type": "code",
   "execution_count": 21,
   "metadata": {},
   "outputs": [
    {
     "name": "stdout",
     "output_type": "stream",
     "text": [
      "[[1. 1.]\n",
      " [1. 1.]]\n"
     ]
    }
   ],
   "source": [
    "x=np.empty((2,2)) # 2x2 boyutunda değerleri 0'a yakın olan bir matris üretir. \n",
    "#Ayrıca daha önce 2x2 boyutunda matris oluşturulmuşsa o matrisi kullanır\n",
    "print(x)"
   ]
  },
  {
   "cell_type": "code",
   "execution_count": 22,
   "metadata": {},
   "outputs": [
    {
     "name": "stdout",
     "output_type": "stream",
     "text": [
      "[[5. 5.]\n",
      " [5. 5.]]\n"
     ]
    }
   ],
   "source": [
    "x=np.zeros((2,2))\n",
    "x.fill(5) # x matrisinin tüm değerlerini 5 yapar\n",
    "print(x)"
   ]
  },
  {
   "cell_type": "code",
   "execution_count": 23,
   "metadata": {},
   "outputs": [
    {
     "name": "stdout",
     "output_type": "stream",
     "text": [
      "[[1. 0.]\n",
      " [0. 1.]]\n"
     ]
    }
   ],
   "source": [
    "x=np.eye(2) # 2x2 boyutunda birim matris oluşturur\n",
    "print(x)"
   ]
  },
  {
   "cell_type": "code",
   "execution_count": 24,
   "metadata": {},
   "outputs": [
    {
     "name": "stdout",
     "output_type": "stream",
     "text": [
      "[[1. 0.]\n",
      " [0. 1.]\n",
      " [0. 0.]]\n"
     ]
    }
   ],
   "source": [
    "y=np.eye(3,2) # 3x2 boyutunda birim matris oluşturur\n",
    "print(y)"
   ]
  },
  {
   "cell_type": "code",
   "execution_count": 25,
   "metadata": {},
   "outputs": [
    {
     "name": "stdout",
     "output_type": "stream",
     "text": [
      "[[0. 1. 0.]\n",
      " [0. 0. 1.]\n",
      " [0. 0. 0.]]\n"
     ]
    }
   ],
   "source": [
    "z=np.eye(3,k=1) # 3x3 boyutunda birim matris oluşturup bu matrisi 1 birim yukarı çıkardık\n",
    "print(z)"
   ]
  },
  {
   "cell_type": "code",
   "execution_count": 26,
   "metadata": {},
   "outputs": [
    {
     "name": "stdout",
     "output_type": "stream",
     "text": [
      "[[0. 0. 0.]\n",
      " [0. 0. 0.]\n",
      " [1. 0. 0.]]\n"
     ]
    }
   ],
   "source": [
    "t=np.eye(3,k=-2) # 3x3 boyutunda birim matris oluşturup bu matrisi 2 birim aşağı indirdik\n",
    "print(t)"
   ]
  },
  {
   "cell_type": "code",
   "execution_count": 27,
   "metadata": {},
   "outputs": [
    {
     "name": "stdout",
     "output_type": "stream",
     "text": [
      "[[1. 0.]\n",
      " [0. 1.]]\n"
     ]
    }
   ],
   "source": [
    "x=np.identity(2) # 2x2 boyutunda birim matris oluşturduk\n",
    "print(x)"
   ]
  },
  {
   "cell_type": "code",
   "execution_count": 28,
   "metadata": {},
   "outputs": [
    {
     "name": "stdout",
     "output_type": "stream",
     "text": [
      "[[1 0 0]\n",
      " [0 2 0]\n",
      " [0 0 5]]\n"
     ]
    }
   ],
   "source": [
    "x=np.diag([1,2,5])# verilen değerleri matrisin köşegenine sırayla yerleştirir, geri kalan değerler 0 olur\n",
    "print(x)"
   ]
  },
  {
   "cell_type": "code",
   "execution_count": 29,
   "metadata": {},
   "outputs": [
    {
     "name": "stdout",
     "output_type": "stream",
     "text": [
      "[1 2 7 4 5]\n",
      "[1 2 7 4 5]\n"
     ]
    }
   ],
   "source": [
    "x = np.array([1, 2, 3, 4, 5])\n",
    "y=x # x matrisini kopyaladık.  Bu şekilde yapınca ikisi aynı adresi paylaşıyorlar.\n",
    "y[2]=7 # Birinde olan değişiklik diğerini de etkiler\n",
    "print(x)\n",
    "print(y)"
   ]
  },
  {
   "cell_type": "code",
   "execution_count": 30,
   "metadata": {},
   "outputs": [
    {
     "name": "stdout",
     "output_type": "stream",
     "text": [
      "[1 2 3 4 5]\n",
      "[1 2 7 4 5]\n"
     ]
    }
   ],
   "source": [
    "x = np.array([1, 2, 3, 4, 5])\n",
    "y=x.copy() # x matrisini kopyaladık.  Bu şekilde yapınca ikisi farklı adresi paylaşıyorlar.\n",
    "y[2]=7 # Birinde olan değişiklik diğerini etkilemez\n",
    "print(x)\n",
    "print(y)"
   ]
  },
  {
   "cell_type": "code",
   "execution_count": 31,
   "metadata": {},
   "outputs": [
    {
     "name": "stdout",
     "output_type": "stream",
     "text": [
      "[1 2 7 4 5]\n",
      "[1 2 7 4 5]\n"
     ]
    }
   ],
   "source": [
    "x = np.array([1, 2, 3, 4, 5])\n",
    "y=x.view() # x matrisini kopyaladık.  Bu şekilde yapınca ikisi aynı adresi paylaşıyorlar.\n",
    "y[2]=7 # Birinde olan değişiklik diğerini de etkiler\n",
    "print(x)\n",
    "print(y)"
   ]
  },
  {
   "cell_type": "markdown",
   "metadata": {},
   "source": [
    "# Ders 3 Matris İşlemleri-1"
   ]
  },
  {
   "cell_type": "code",
   "execution_count": 32,
   "metadata": {},
   "outputs": [
    {
     "name": "stdout",
     "output_type": "stream",
     "text": [
      "ilk eleman:  0\n",
      "son eleman:  4\n"
     ]
    }
   ],
   "source": [
    "x=np.arange(5)\n",
    "print('ilk eleman: ', x[0]) # vektörün ilk elemanı, indeksler 0 ile başlar \n",
    "print('son eleman: ', x[-1]) # vektörün son elemanına -1 ile de  ulaşabilriz"
   ]
  },
  {
   "cell_type": "code",
   "execution_count": 33,
   "metadata": {},
   "outputs": [
    {
     "name": "stdout",
     "output_type": "stream",
     "text": [
      "6\n"
     ]
    }
   ],
   "source": [
    "x=np.arange(12).reshape(3,4)\n",
    "print(x[1,2])  # 1. satırın 2.sütünundaki eleman"
   ]
  },
  {
   "cell_type": "code",
   "execution_count": 34,
   "metadata": {},
   "outputs": [
    {
     "name": "stdout",
     "output_type": "stream",
     "text": [
      "[1 3 4 5]\n"
     ]
    }
   ],
   "source": [
    "x=np.arange(6)\n",
    "y=np.delete(x,[0,2]) # 0.ve 2. elemanları siler\n",
    "print(y)"
   ]
  },
  {
   "cell_type": "code",
   "execution_count": 35,
   "metadata": {},
   "outputs": [
    {
     "name": "stdout",
     "output_type": "stream",
     "text": [
      "[[ 0  1  2  3]\n",
      " [ 8  9 10 11]\n",
      " [12 13 14 15]]\n"
     ]
    }
   ],
   "source": [
    "x=np.arange(16).reshape(4,4)\n",
    "x=np.delete(x,1,axis=0) # 1.satırı siler. axis=1 deseydik sütunu silerdi\n",
    "print(x)"
   ]
  },
  {
   "cell_type": "code",
   "execution_count": 36,
   "metadata": {},
   "outputs": [
    {
     "name": "stdout",
     "output_type": "stream",
     "text": [
      "[[ 1  3]\n",
      " [ 5  7]\n",
      " [ 9 11]\n",
      " [13 15]]\n"
     ]
    }
   ],
   "source": [
    "x=np.arange(16).reshape(4,4)\n",
    "x=np.delete(x,[0,2],axis=1) # 0.ve 2. sütunu siler\n",
    "print(x)"
   ]
  },
  {
   "cell_type": "code",
   "execution_count": 37,
   "metadata": {},
   "outputs": [
    {
     "name": "stdout",
     "output_type": "stream",
     "text": [
      "[ 0  1  2  3  4  5 10]\n",
      "[ 0  1  2  3  4  5 10 15 16]\n"
     ]
    }
   ],
   "source": [
    "x=np.arange(6)\n",
    "x=np.append(x,10) # vektörün sonuna 10'u ekler\n",
    "print(x)\n",
    "y=np.append(x,[15,16]) # vektörün sonuna 15, 16'yı ekler\n",
    "print(y)"
   ]
  },
  {
   "cell_type": "code",
   "execution_count": 38,
   "metadata": {},
   "outputs": [
    {
     "name": "stdout",
     "output_type": "stream",
     "text": [
      "[[ 0  1  2]\n",
      " [ 3  4  5]\n",
      " [ 6  7  8]\n",
      " [10 20 30]]\n",
      "[[ 0  1  2 40]\n",
      " [ 3  4  5 50]\n",
      " [ 6  7  8 60]\n",
      " [10 20 30 70]]\n"
     ]
    }
   ],
   "source": [
    "x=np.arange(9).reshape(3,3)\n",
    "x=np.append(x,[[10,20,30]], axis=0) # son satır olarak ekledik\n",
    "print(x)\n",
    "y=np.append(x,[[40],[50],[60],[70]],axis=1) # son sütun ekledik\n",
    "print(y)\n",
    "# Burada veriye uygun boyutta satır ya da sütun eklemezsek hata alırız. \n",
    "# Burada satıra ya da sütuna eklerken tek fark axis değil. Köşeli parantezlerin durumu da farklı. \n",
    "# Buna da dikkat edilmesi gerekiyot"
   ]
  },
  {
   "cell_type": "code",
   "execution_count": 39,
   "metadata": {},
   "outputs": [
    {
     "name": "stdout",
     "output_type": "stream",
     "text": [
      "[10  0  1  2  3  4  5]\n"
     ]
    }
   ],
   "source": [
    "x=np.arange(6)\n",
    "x= np. insert(x,0,10) # x'in 0. indisine 10'u ekler \n",
    "print(x)"
   ]
  },
  {
   "cell_type": "code",
   "execution_count": 40,
   "metadata": {},
   "outputs": [
    {
     "name": "stdout",
     "output_type": "stream",
     "text": [
      "[[ 0  1  2]\n",
      " [10 20 30]\n",
      " [ 3  4  5]\n",
      " [ 6  7  8]]\n",
      "[[40  0  1  2]\n",
      " [50 10 20 30]\n",
      " [60  3  4  5]\n",
      " [70  6  7  8]]\n"
     ]
    }
   ],
   "source": [
    "x=np.arange(9).reshape(3,3)\n",
    "x=np.insert(x,1,[10,20,30],axis=0) # 1. indeksli satıra [10,20,30]'u ekledik\n",
    "print(x)\n",
    "y=np.insert(x,0,[40,50,60,70],axis=1) # 0. indeksli sütuna [40,50,60,70]'i ekledik\n",
    "print(y)"
   ]
  },
  {
   "cell_type": "code",
   "execution_count": 41,
   "metadata": {},
   "outputs": [
    {
     "name": "stdout",
     "output_type": "stream",
     "text": [
      "[[0 1 2]\n",
      " [0 1 2]\n",
      " [3 4 5]\n",
      " [6 7 8]]\n",
      "[0 1 2 0 1 2 3 4 5 6 7 8]\n"
     ]
    }
   ],
   "source": [
    "x=np.arange(3)\n",
    "y=np.arange(9).reshape(3,3) \n",
    "z=np.vstack((x,y)) # x'i y nin tepesine ekler\n",
    "print(z)\n",
    "t=np.hstack((x,y.reshape(9,))) # x', y'ye yatay olarak ekler, bunun y'yi uygun boyutlu hale getiriyoruz\n",
    "print(t)"
   ]
  },
  {
   "cell_type": "code",
   "execution_count": 42,
   "metadata": {},
   "outputs": [
    {
     "name": "stdout",
     "output_type": "stream",
     "text": [
      "[1 2 3 4 5 6]\n"
     ]
    }
   ],
   "source": [
    "x = np.array([1, 2, 3])\n",
    "\n",
    "y = np.array([4, 5, 6])\n",
    "\n",
    "z = np.concatenate((x, y)) # 2 matrisi birleştirdik\n",
    "\n",
    "print(z)"
   ]
  },
  {
   "cell_type": "code",
   "execution_count": 43,
   "metadata": {},
   "outputs": [
    {
     "name": "stdout",
     "output_type": "stream",
     "text": [
      "[[1 2 5 6]\n",
      " [3 4 7 8]]\n"
     ]
    }
   ],
   "source": [
    "import numpy as np\n",
    "\n",
    "x = np.array([[1, 2], [3, 4]])\n",
    "\n",
    "y = np.array([[5, 6], [7, 8]])\n",
    "\n",
    "z = np.concatenate((x, y), axis=1) # iki boyutlu iki matrisi birleştirdik\n",
    "\n",
    "print(z)"
   ]
  },
  {
   "cell_type": "code",
   "execution_count": 44,
   "metadata": {},
   "outputs": [
    {
     "name": "stdout",
     "output_type": "stream",
     "text": [
      "[[1 4]\n",
      " [2 5]\n",
      " [3 6]]\n"
     ]
    }
   ],
   "source": [
    "x = np.array([1, 2, 3])\n",
    "\n",
    "y = np.array([4, 5, 6])\n",
    "\n",
    "z = np.stack((x, y), axis=1) # Burada her bir elemanı karşılık gelen eleman ile birleştiriyor. \n",
    "# ama her birleşim sonucunu ayrı tutuyor diğer birleşim sonucundan\n",
    "\n",
    "print(z)"
   ]
  },
  {
   "cell_type": "code",
   "execution_count": 45,
   "metadata": {},
   "outputs": [
    {
     "name": "stdout",
     "output_type": "stream",
     "text": [
      "[[[1 4]\n",
      "  [2 5]\n",
      "  [3 6]]]\n"
     ]
    }
   ],
   "source": [
    "import numpy as np\n",
    "\n",
    "x = np.array([1, 2,3])\n",
    "\n",
    "y = np.array([4, 5,6])\n",
    "\n",
    "z = np.dstack((x, y)) # Yukarıdakine benzer şekilde birleştirme yapıyor.\n",
    "# ama bunda çıkan sonucu bir boyutun içine koyup boyut arttırıyor diyebiliriz\n",
    "\n",
    "print(z)"
   ]
  },
  {
   "cell_type": "markdown",
   "metadata": {},
   "source": [
    "# Ders 4 Matris Bölme İşlemleri"
   ]
  },
  {
   "cell_type": "code",
   "execution_count": 46,
   "metadata": {},
   "outputs": [
    {
     "name": "stdout",
     "output_type": "stream",
     "text": [
      "[2 3 4 5]\n",
      "[7 8 9]\n",
      "[0 1 2 3]\n",
      "[0 1 2 3 4 5 6 7 8]\n"
     ]
    }
   ],
   "source": [
    "x=np.arange(10)\n",
    "print(x[2:6]) # 2.indeksten 6. indekse kadar, 6.indeks dahil değil\n",
    "print(x[7:]) # 7. indeksten sonraki sona kadar tüm elemanlar, 7. indeks dahil\n",
    "print(x[:4]) # baştan 4. indekse kadar, 4.indeks dahil değil\n",
    "print(x[:-1]) # baştan -1. elemana kadar yani son elemana kadar. Son eleman dahil değil"
   ]
  },
  {
   "cell_type": "code",
   "execution_count": 47,
   "metadata": {},
   "outputs": [
    {
     "name": "stdout",
     "output_type": "stream",
     "text": [
      "[2 4]\n"
     ]
    }
   ],
   "source": [
    "x = np.array([1, 2, 3, 4, 5, 6, 7])\n",
    "\n",
    "print(x[1:5:2]) # 1. indeskten 5. indekse kadar 2'şer adımla alıyor. 5. indeks dahil değil"
   ]
  },
  {
   "cell_type": "code",
   "execution_count": 48,
   "metadata": {},
   "outputs": [
    {
     "name": "stdout",
     "output_type": "stream",
     "text": [
      "[[ 0  1  2  3  4]\n",
      " [ 5  6  7  8  9]\n",
      " [10 11 12 13 14]\n",
      " [15 16 17 18 19]\n",
      " [20 21 22 23 24]]\n",
      "[[ 1  2  3]\n",
      " [ 6  7  8]\n",
      " [11 12 13]]\n",
      "[[10 11 12 13 14]\n",
      " [15 16 17 18 19]\n",
      " [20 21 22 23 24]]\n",
      "[[ 0  1  2  3  4]\n",
      " [ 5  6  7  8  9]\n",
      " [10 11 12 13 14]\n",
      " [15 16 17 18 19]\n",
      " [20 21 22 23 24]]\n"
     ]
    }
   ],
   "source": [
    "x=np.arange(25).reshape(5,5)\n",
    "print(x)\n",
    "y=x[0:3,1:4] # 0. indeksten 3.indekse kadar olan satırların 1. indeksten 4.indekse kadar olan sütunları\n",
    "print(y)\n",
    "z=x[2:] # 2. indeksli satırdan sonraki tüm satırlar\n",
    "print(z)\n",
    "t=x[::]\n",
    "print(t) #tüm satır ve sütunlar\n",
    "\n"
   ]
  },
  {
   "cell_type": "markdown",
   "metadata": {},
   "source": [
    "Eğer matrisleri bu şekilde bölersek hafızada aynı yeri paylaşırlar. "
   ]
  },
  {
   "cell_type": "code",
   "execution_count": 49,
   "metadata": {},
   "outputs": [
    {
     "name": "stdout",
     "output_type": "stream",
     "text": [
      "True\n"
     ]
    }
   ],
   "source": [
    "print(np.shares_memory(x,y)) # eğer hafıza aynı yeri paylaşıyorlarsa True döner"
   ]
  },
  {
   "cell_type": "code",
   "execution_count": 50,
   "metadata": {},
   "outputs": [
    {
     "name": "stdout",
     "output_type": "stream",
     "text": [
      "[[ 0  1  2  3]\n",
      " [ 4  5  6  7]\n",
      " [ 8  9 10 11]\n",
      " [12 13 14 15]]\n",
      "[[ 1  2]\n",
      " [ 5  6]\n",
      " [ 9 10]]\n",
      "False\n",
      "[[5]]\n"
     ]
    }
   ],
   "source": [
    "x=x=np.arange(16).reshape(4,4)\n",
    "print(x)\n",
    "y=np.copy(x [0:3,1:3]) # bu şekilde yaparsak hafızada aynı yeri paylaşmaz\n",
    "print(y)\n",
    "print(np.shares_memory(x,y))\n",
    "z=x[1:2,1:2].copy() # bu da kopyalamanın farklı bir yolu\n",
    "print(z)"
   ]
  },
  {
   "cell_type": "code",
   "execution_count": 51,
   "metadata": {},
   "outputs": [
    {
     "name": "stdout",
     "output_type": "stream",
     "text": [
      "[ 1.  3.  5.  7.  9. 11. 13. 15. 17. 19. 21.]\n",
      "[ 5.  9. 15.]\n"
     ]
    }
   ],
   "source": [
    "x=np.linspace(1,21,11)\n",
    "y=np.array([2,4,7])\n",
    "z=x[y] # x'in y'de bulunan elemanlara göre ayrılması. Burada x'in 2., 4. ve 7. indeksteki elemanları alınır\n",
    "print(x)\n",
    "print(z)"
   ]
  },
  {
   "cell_type": "code",
   "execution_count": 52,
   "metadata": {},
   "outputs": [
    {
     "name": "stdout",
     "output_type": "stream",
     "text": [
      "[[ 0  1  2  3  4]\n",
      " [ 5  6  7  8  9]\n",
      " [10 11 12 13 14]\n",
      " [15 16 17 18 19]\n",
      " [20 21 22 23 24]]\n",
      "[[ 5  6  7  8  9]\n",
      " [10 11 12 13 14]]\n",
      "False\n"
     ]
    }
   ],
   "source": [
    "x=np.arange(25).reshape(5,5)\n",
    "print(x)\n",
    "y=np.array([1,2])\n",
    "z=x[y] # 1. ve 2. indeksteki satırlar alınır. z ile x hafızada aynı yeri paylaşmaz\n",
    "print(z)\n",
    "print(np.shares_memory(x,z))\n"
   ]
  },
  {
   "cell_type": "code",
   "execution_count": 53,
   "metadata": {},
   "outputs": [
    {
     "name": "stdout",
     "output_type": "stream",
     "text": [
      "[2 4 6]\n",
      "False\n"
     ]
    }
   ],
   "source": [
    "x=np.arange(1,7)\n",
    "y=x[x%2==0] # x'in 2'tam bölünebilen elemanları alınır. x ile y hafızada aynı yeri paylaşmaz.\n",
    "print(y)\n",
    "print(np.shares_memory(x,y))"
   ]
  },
  {
   "cell_type": "code",
   "execution_count": 54,
   "metadata": {},
   "outputs": [
    {
     "name": "stdout",
     "output_type": "stream",
     "text": [
      "[array([1, 2, 3]), array([4, 5, 6]), array([7, 8])]\n"
     ]
    }
   ],
   "source": [
    "x = np.array([1, 2, 3, 4, 5, 6,7,8])\n",
    "\n",
    "y = np.array_split(x, 3) # Matris elemanlarını 3 gruba ayırdık\n",
    "\n",
    "print(y)"
   ]
  },
  {
   "cell_type": "code",
   "execution_count": 55,
   "metadata": {},
   "outputs": [
    {
     "name": "stdout",
     "output_type": "stream",
     "text": [
      "[array([[1, 2],\n",
      "       [3, 4]]), array([[5, 6],\n",
      "       [7, 8]]), array([[ 9, 10],\n",
      "       [11, 12]])]\n"
     ]
    }
   ],
   "source": [
    "import numpy as np\n",
    "\n",
    "x = np.array([[1, 2], [3, 4], [5, 6], [7, 8], [9, 10], [11, 12]])\n",
    "\n",
    "y = np.array_split(x, 3) # 2 boyutlu matrisi 3 gruba ayırdık\n",
    "\n",
    "print(y)"
   ]
  },
  {
   "cell_type": "code",
   "execution_count": 56,
   "metadata": {},
   "outputs": [
    {
     "name": "stdout",
     "output_type": "stream",
     "text": [
      "[array([[ 1],\n",
      "       [ 4],\n",
      "       [ 7],\n",
      "       [10],\n",
      "       [13],\n",
      "       [16]]), array([[ 2],\n",
      "       [ 5],\n",
      "       [ 8],\n",
      "       [11],\n",
      "       [14],\n",
      "       [17]]), array([[ 3],\n",
      "       [ 6],\n",
      "       [ 9],\n",
      "       [12],\n",
      "       [15],\n",
      "       [18]])]\n"
     ]
    }
   ],
   "source": [
    "x = np.array([[1, 2, 3], [4, 5, 6], [7, 8, 9], [10, 11, 12], [13, 14, 15], [16, 17, 18]])\n",
    "\n",
    "y = np.hsplit(x, 3) # Burada 3 gruba ayırdık ama gruptaki her elemanı da ayrı bir listenin daha içine aldık\n",
    "\n",
    "print(y)"
   ]
  },
  {
   "cell_type": "code",
   "execution_count": 57,
   "metadata": {},
   "outputs": [
    {
     "name": "stdout",
     "output_type": "stream",
     "text": [
      "[array([[1, 2, 3],\n",
      "       [4, 5, 6]]), array([[ 7,  8,  9],\n",
      "       [10, 11, 12]]), array([[13, 14, 15],\n",
      "       [16, 17, 18]])]\n"
     ]
    }
   ],
   "source": [
    "x = np.array([[1, 2, 3], [4, 5, 6], [7, 8, 9], [10, 11, 12], [13, 14, 15], [16, 17, 18]])\n",
    "\n",
    "y = np.vsplit(x, 3) # Burada 3 gruba ayırdık ama gruptaki her elemanı da ayrı bir listenin daha içine aldık\n",
    "\n",
    "print(y)"
   ]
  },
  {
   "cell_type": "markdown",
   "metadata": {},
   "source": [
    "# Ders 5 Mantık İşlemleri"
   ]
  },
  {
   "cell_type": "code",
   "execution_count": 58,
   "metadata": {},
   "outputs": [
    {
     "name": "stdout",
     "output_type": "stream",
     "text": [
      "[ True False  True]\n",
      "False\n",
      "True\n",
      "[3 7]\n"
     ]
    }
   ],
   "source": [
    "x=np.array([3, 5, 7])\n",
    "y=np.array([1, 9, 6])\n",
    "z=x>y # x'in bir indeksteki elemanı y'deki o indeksteki elemandan büyükse True döner\n",
    "print(z)\n",
    "print(np.all(x>y)) # eğer bir tane bile False varsa False döner\n",
    "print(np.any(x>y)) # en az bir tane True varsa True döner\n",
    "print(x[x>y]) # x'in bir indeksteki elemanı y'deki o indeksteki elemanından büyükse o elemanları döndürür. Yani şartı sağlayan"
   ]
  },
  {
   "cell_type": "code",
   "execution_count": 59,
   "metadata": {},
   "outputs": [
    {
     "name": "stdout",
     "output_type": "stream",
     "text": [
      "[ True False  True False  True False]\n",
      "[0 2 4]\n"
     ]
    }
   ],
   "source": [
    "x=np.arange(6)\n",
    "mask=x%2==0 # Bir elemaının 2'ye bölümünden kalan 0'sa True değerini alır mask'ın o elemana karşılık gelen indeksi\n",
    "print(mask)\n",
    "print(x[mask]) # x'in, mask'ta True değerine sahip indekslerdeki elemanları"
   ]
  },
  {
   "cell_type": "code",
   "execution_count": 60,
   "metadata": {},
   "outputs": [
    {
     "name": "stdout",
     "output_type": "stream",
     "text": [
      "[False  True False]\n"
     ]
    }
   ],
   "source": [
    "x=np.array([3,5,9])\n",
    "y=np.array([1,5,3])\n",
    "print(x==y) #Aynı indeksteki eleman eşitse o indise True değilse False atıyor"
   ]
  },
  {
   "cell_type": "code",
   "execution_count": 61,
   "metadata": {},
   "outputs": [
    {
     "name": "stdout",
     "output_type": "stream",
     "text": [
      "False\n"
     ]
    }
   ],
   "source": [
    "x=np.array([1,2])\n",
    "y=np.array([5,2]) \n",
    "print(np.array_equal(x,y)) # İki matris eşitse True döner"
   ]
  },
  {
   "cell_type": "code",
   "execution_count": 62,
   "metadata": {},
   "outputs": [
    {
     "name": "stdout",
     "output_type": "stream",
     "text": [
      "(array([1, 3, 5, 7], dtype=int64),)\n"
     ]
    }
   ],
   "source": [
    "x = np.array([1, 2, 3, 4, 5, 6, 7, 8])\n",
    "\n",
    "y = np.where(x%2 == 0) # burada 2'ye tam bölünebilen sayıların indisini atıyoruz\n",
    "\n",
    "print(y)"
   ]
  },
  {
   "cell_type": "code",
   "execution_count": 63,
   "metadata": {},
   "outputs": [
    {
     "name": "stdout",
     "output_type": "stream",
     "text": [
      "[0 1 2 3 4 5 6 7 8 9]\n",
      "[ 0  2  4  6  8 50 60 70 80 90]\n"
     ]
    }
   ],
   "source": [
    "#np.where'in böyle bir kullanımı daha var\n",
    "x= np.arange(10)\n",
    "y=np.where(x<5,2*x,10*x) # eğer bir eleman 5'ten küçükse 2 katını al değilse 10 katını al\n",
    "print(x)\n",
    "print(y)"
   ]
  },
  {
   "cell_type": "markdown",
   "metadata": {},
   "source": [
    "# Ders 6 Küme İşlemleri"
   ]
  },
  {
   "cell_type": "code",
   "execution_count": 64,
   "metadata": {},
   "outputs": [
    {
     "name": "stdout",
     "output_type": "stream",
     "text": [
      "[3 6]\n",
      "[2 5 9]\n",
      "[1 2 3 5 6 7 8 9]\n",
      "[False False  True  True False]\n"
     ]
    }
   ],
   "source": [
    "x=np.array([2,5,3,6,9])\n",
    "y=np.array([6,1,8,7,3])\n",
    "print(np.intersect1d(x,y)) # Her ikisinde de ortak olan elemanları döner\n",
    "print(np.setdiff1d(x,y)) # x'de olup y'de olmayan elemanları döner\n",
    "print(np.union1d(x,y)) # Birleşim kümesi\n",
    "print(np.in1d(x,y)) # x'in elemanlarına bakar, eğer bu eleman y'de varsa True döner\n"
   ]
  },
  {
   "cell_type": "code",
   "execution_count": 65,
   "metadata": {},
   "outputs": [
    {
     "name": "stdout",
     "output_type": "stream",
     "text": [
      "[0 2 3 4 5 6 9]\n"
     ]
    }
   ],
   "source": [
    "x=np.array([2,5,3,6,9,4,3,6,5,0]) \n",
    "print(np.unique(x)) # bir eleman birden fazla varsa sayısını bire düşürür"
   ]
  },
  {
   "cell_type": "code",
   "execution_count": 66,
   "metadata": {},
   "outputs": [
    {
     "name": "stdout",
     "output_type": "stream",
     "text": [
      "[1 2 3 3 3 6 7]\n"
     ]
    }
   ],
   "source": [
    "x=np.array([3,3,7,1,2,3,6]) \n",
    "print(np.sort(x)) # x'i küçükten büyüğe doğru sıralar"
   ]
  },
  {
   "cell_type": "code",
   "execution_count": 67,
   "metadata": {},
   "outputs": [
    {
     "name": "stdout",
     "output_type": "stream",
     "text": [
      "[[3 5 2]\n",
      " [4 8 1]\n",
      " [1 2 3]]\n",
      "[[1 2 1]\n",
      " [3 5 2]\n",
      " [4 8 3]]\n",
      "[[2 3 5]\n",
      " [1 4 8]\n",
      " [1 2 3]]\n"
     ]
    }
   ],
   "source": [
    "x=np.array([[3,5,2],[4,8,1],[1,2,3]]) \n",
    "print(x)\n",
    "print(np.sort(x,axis=0)) # her sütunu kendi içinde sıralar\n",
    "print(np.sort(x,axis=1)) # her satırı kendi içinde sıralar"
   ]
  },
  {
   "cell_type": "markdown",
   "metadata": {},
   "source": [
    "# Ders 7 Aritmetik İşlemler"
   ]
  },
  {
   "cell_type": "code",
   "execution_count": 68,
   "metadata": {},
   "outputs": [
    {
     "name": "stdout",
     "output_type": "stream",
     "text": [
      "[1 2 3 4 5]\n",
      "[ 6  7  8  9 10]\n",
      "[ 7  9 11 13 15]\n",
      "[ 7  9 11 13 15]\n",
      "[-5 -5 -5 -5 -5]\n",
      "[-5 -5 -5 -5 -5]\n",
      "[ 6 14 24 36 50]\n",
      "[ 6 14 24 36 50]\n",
      "[0.16666667 0.28571429 0.375      0.44444444 0.5       ]\n",
      "[0.16666667 0.28571429 0.375      0.44444444 0.5       ]\n",
      "[0 1 2 1 0]\n"
     ]
    }
   ],
   "source": [
    "x=np.arange(1,6)\n",
    "y=np.arange(6,11)\n",
    "print(x)\n",
    "print(y)\n",
    "print(x+y) # iki matris toplanır\n",
    "print(np.add(x,y)) # iki matris toplanır\n",
    "print(x-y) # x'ten y çıkarılır\n",
    "print(np.subtract(x,y)) # x'ten y çıkarılır\n",
    "print(x*y) # x ile y çarpılır\n",
    "print(np.multiply(x,y)) # x ile y çarpılır\n",
    "print(x/y) #x, y'ye bölünür\n",
    "print(np.divide(x,y)) #x, y'ye bölünür\n",
    "print(np.mod(y,x)) # y'nin x'e göre modu"
   ]
  },
  {
   "cell_type": "code",
   "execution_count": 69,
   "metadata": {},
   "outputs": [
    {
     "name": "stdout",
     "output_type": "stream",
     "text": [
      "(array([ 3,  2,  3,  5, 25,  1]), array([ 1,  6,  3,  0,  0, 27]))\n"
     ]
    }
   ],
   "source": [
    "x = np.array([10, 20, 30, 40, 50, 60])\n",
    "y = np.array([3, 7, 9, 8, 2, 33])\n",
    "\n",
    "z = np.divmod(x, y) # 2 matris dönüyor. Birisi bölüm diğeri de kalan\n",
    "\n",
    "print(z)"
   ]
  },
  {
   "cell_type": "code",
   "execution_count": 70,
   "metadata": {},
   "outputs": [
    {
     "name": "stdout",
     "output_type": "stream",
     "text": [
      "[1 2 3 4 5]\n",
      "[4 5 6 7 8]\n",
      "[ 2  4  6  8 10]\n"
     ]
    }
   ],
   "source": [
    "x=np.arange(1,6)\n",
    "print(x)\n",
    "print(x+3) # x'teki her bir elemana 3 eklenir\n",
    "print(x*2) # x'teki her bir eleman 3 ile çarpılır"
   ]
  },
  {
   "cell_type": "code",
   "execution_count": 71,
   "metadata": {},
   "outputs": [
    {
     "name": "stdout",
     "output_type": "stream",
     "text": [
      "[0. 1. 2. 3.]\n",
      "[  0   1  64 729]\n",
      "[1.00000000e+00 2.71828183e+00 5.45981500e+01 8.10308393e+03]\n"
     ]
    }
   ],
   "source": [
    "x=np.array([0,1,4,9])\n",
    "print(np.sqrt(x)) # her bir elemanın karekökü\n",
    "print(np.power(x,3)) # her bir elemanın 3.kuvveti\n",
    "print(np.exp(x)) # her bir elemanın e üssü\n"
   ]
  },
  {
   "cell_type": "code",
   "execution_count": 72,
   "metadata": {},
   "outputs": [
    {
     "name": "stdout",
     "output_type": "stream",
     "text": [
      "[0.       2.       3.169925]\n"
     ]
    }
   ],
   "source": [
    "x=np.array([1,4,9])\n",
    "print(np.log2(x)) # her bir eleman 2 tabanına göre logaritmiği"
   ]
  },
  {
   "cell_type": "code",
   "execution_count": 73,
   "metadata": {},
   "outputs": [
    {
     "name": "stdout",
     "output_type": "stream",
     "text": [
      "12\n"
     ]
    }
   ],
   "source": [
    "x = 4\n",
    "y = 6\n",
    "\n",
    "z = np.lcm(x, y) # Sayıların ekoku yani ortak en küçük katı\n",
    "\n",
    "print(z)"
   ]
  },
  {
   "cell_type": "code",
   "execution_count": 74,
   "metadata": {},
   "outputs": [
    {
     "name": "stdout",
     "output_type": "stream",
     "text": [
      "18\n"
     ]
    }
   ],
   "source": [
    "import numpy as np\n",
    "\n",
    "x = np.array([3, 6, 9])\n",
    "\n",
    "z = np.lcm.reduce(x) # dizideki elemanların ekoku\n",
    "\n",
    "print(z)"
   ]
  },
  {
   "cell_type": "code",
   "execution_count": 75,
   "metadata": {},
   "outputs": [
    {
     "name": "stdout",
     "output_type": "stream",
     "text": [
      "2\n"
     ]
    }
   ],
   "source": [
    "x = 4\n",
    "y = 6\n",
    "\n",
    "z = np.gcd(x, y) # Sayıların ebobu yani ortak en büyük böleni\n",
    "\n",
    "print(z)"
   ]
  },
  {
   "cell_type": "code",
   "execution_count": 76,
   "metadata": {},
   "outputs": [
    {
     "name": "stdout",
     "output_type": "stream",
     "text": [
      "3\n"
     ]
    }
   ],
   "source": [
    "import numpy as np\n",
    "\n",
    "x = np.array([3, 6, 9])\n",
    "\n",
    "z = np.gcd.reduce(x) # dizideki elemanların ekoku\n",
    "\n",
    "print(z)"
   ]
  },
  {
   "cell_type": "code",
   "execution_count": 77,
   "metadata": {},
   "outputs": [
    {
     "name": "stdout",
     "output_type": "stream",
     "text": [
      "24\n"
     ]
    }
   ],
   "source": [
    "x = np.array([1, 2, 3, 4])\n",
    "\n",
    "y = np.prod(x) # x'in içindeki elemanların birbirleriyle çarpımı\n",
    "\n",
    "print(y)"
   ]
  },
  {
   "cell_type": "code",
   "execution_count": 78,
   "metadata": {},
   "outputs": [
    {
     "name": "stdout",
     "output_type": "stream",
     "text": [
      "40320\n"
     ]
    }
   ],
   "source": [
    "x = np.array([1, 2, 3, 4])\n",
    "y = np.array([5, 6, 7, 8])\n",
    "\n",
    "z = np.prod([x, y]) # iki vektörün içindeki elemanların birbirleriyle çarpımı\n",
    "\n",
    "print(z)"
   ]
  },
  {
   "cell_type": "code",
   "execution_count": 79,
   "metadata": {},
   "outputs": [
    {
     "name": "stdout",
     "output_type": "stream",
     "text": [
      "[  24 1680]\n"
     ]
    }
   ],
   "source": [
    "x = np.array([1, 2, 3, 4])\n",
    "y = np.array([5, 6, 7, 8])\n",
    "\n",
    "z = np.prod([x, y],axis=1) # iki vektörün kendi içindeki elemanlarının çarpımı\n",
    "\n",
    "print(z)"
   ]
  },
  {
   "cell_type": "code",
   "execution_count": 80,
   "metadata": {},
   "outputs": [
    {
     "name": "stdout",
     "output_type": "stream",
     "text": [
      "[ 1  2  6 24]\n"
     ]
    }
   ],
   "source": [
    "x = np.array([1, 2, 3, 4])\n",
    "\n",
    "x = np.cumprod(x) # matris elemanlarının kümülatif çarpımı\n",
    "# Burada her bir eleman kendinden önce gelen sayılarla çarpılıyor.\n",
    "\n",
    "print(x)"
   ]
  },
  {
   "cell_type": "code",
   "execution_count": 81,
   "metadata": {},
   "outputs": [
    {
     "name": "stdout",
     "output_type": "stream",
     "text": [
      "36\n"
     ]
    }
   ],
   "source": [
    "x = np.array([1, 2, 3, 4])\n",
    "y = np.array([5, 6, 7, 8])\n",
    "\n",
    "z = np.sum([x, y]) # iki vektörün içindeki elemanların toplamı\n",
    "\n",
    "print(z)"
   ]
  },
  {
   "cell_type": "code",
   "execution_count": 82,
   "metadata": {},
   "outputs": [
    {
     "name": "stdout",
     "output_type": "stream",
     "text": [
      "[10 26]\n"
     ]
    }
   ],
   "source": [
    "x = np.array([1, 2, 3, 4])\n",
    "y = np.array([5, 6, 7, 8])\n",
    "\n",
    "z = np.sum([x, y],axis=1) # her iki vektörün de kendi  içindeki elemanların toplamı\n",
    "\n",
    "print(z)"
   ]
  },
  {
   "cell_type": "code",
   "execution_count": 83,
   "metadata": {},
   "outputs": [
    {
     "name": "stdout",
     "output_type": "stream",
     "text": [
      "[ 1  3  6 10]\n"
     ]
    }
   ],
   "source": [
    "x = np.array([1, 2, 3, 4])\n",
    "\n",
    "x = np.cumsum(x) # matris elemanlarının kümülatif toplamı\n",
    "# Burada her bir eleman kendinden önce gelen sayılarla toplanıyor.\n",
    "\n",
    "print(x)"
   ]
  },
  {
   "cell_type": "code",
   "execution_count": 84,
   "metadata": {},
   "outputs": [
    {
     "name": "stdout",
     "output_type": "stream",
     "text": [
      "[1 1 1]\n"
     ]
    }
   ],
   "source": [
    "x = np.array([1, 2, 3, 4]) # Burada her bir eleman kendisinden sonraki elemandan çıkarılıyor\n",
    "y = np.diff(x)  # Burada her bir eleman kendisinden sonraki elemandan çıkarılıyor\n",
    "# 2-1=1, 3-2=1, 4-3=1\n",
    "\n",
    "print(y)"
   ]
  },
  {
   "cell_type": "code",
   "execution_count": 85,
   "metadata": {},
   "outputs": [
    {
     "name": "stdout",
     "output_type": "stream",
     "text": [
      "[1 1 1]\n"
     ]
    }
   ],
   "source": [
    "x = np.array([1, 2, 3, 4]) # Burada her bir eleman kendisinden sonraki elemandan çıkarılıyor\n",
    "\n",
    "\n",
    "newarr = np.diff(x, n=2) # Bu çıkarma işlemi 2 kere yapılıyor. Yani ilk önce normal çıkarma yapılıp bir matris elde ediliyor\n",
    "# Sonrasında bu yeni matrise tekrardan çıkarma işlemi bir kez daha yapılıyor\n",
    "\n",
    "\n",
    "\n",
    "print(y)"
   ]
  },
  {
   "cell_type": "code",
   "execution_count": 86,
   "metadata": {},
   "outputs": [
    {
     "name": "stdout",
     "output_type": "stream",
     "text": [
      "[-3.  3.]\n"
     ]
    }
   ],
   "source": [
    "x = np.trunc([-3.1666, 3.6667]) # ondalık kısım atılır\n",
    "\n",
    "print(x)"
   ]
  },
  {
   "cell_type": "code",
   "execution_count": 87,
   "metadata": {},
   "outputs": [
    {
     "name": "stdout",
     "output_type": "stream",
     "text": [
      "[-3.  3.]\n"
     ]
    }
   ],
   "source": [
    "x = np.fix([-3.1666, 3.6667]) # ondalık kısım atılır\n",
    "\n",
    "print(x)"
   ]
  },
  {
   "cell_type": "code",
   "execution_count": 88,
   "metadata": {},
   "outputs": [
    {
     "name": "stdout",
     "output_type": "stream",
     "text": [
      "3.17\n"
     ]
    }
   ],
   "source": [
    "x = np.around(3.1666, 2) # yuvarlama yapar. Bunu 2 basamağa göre yapar\n",
    "\n",
    "print(x)"
   ]
  },
  {
   "cell_type": "code",
   "execution_count": 89,
   "metadata": {},
   "outputs": [
    {
     "name": "stdout",
     "output_type": "stream",
     "text": [
      "[-4.  3.]\n"
     ]
    }
   ],
   "source": [
    "x = np.floor([-3.1666, 3.6667]) # sayıları kendisinden küçük en büyük sayıya yuvarlar \n",
    "\n",
    "print(x)"
   ]
  },
  {
   "cell_type": "code",
   "execution_count": 90,
   "metadata": {},
   "outputs": [
    {
     "name": "stdout",
     "output_type": "stream",
     "text": [
      "[-3.  4.]\n"
     ]
    }
   ],
   "source": [
    "x = np.ceil([-3.1666, 3.6667]) # sayıları kendisinden büyük en küçük sayıya yuvarlar \n",
    "\n",
    "print(x)"
   ]
  },
  {
   "cell_type": "code",
   "execution_count": 91,
   "metadata": {},
   "outputs": [
    {
     "name": "stdout",
     "output_type": "stream",
     "text": [
      "1.0\n"
     ]
    }
   ],
   "source": [
    "x = np.sin(np.pi/2) # Pi/2'nin sin değeri\n",
    "\n",
    "print(x)"
   ]
  },
  {
   "cell_type": "code",
   "execution_count": 92,
   "metadata": {},
   "outputs": [
    {
     "name": "stdout",
     "output_type": "stream",
     "text": [
      "[1.57079633 3.14159265 4.71238898 6.28318531]\n"
     ]
    }
   ],
   "source": [
    "x = np.array([90, 180, 270, 360])\n",
    "\n",
    "z= np.deg2rad(x) # buradaki değerleri dereceden radyan cinsine çeviriyor. \n",
    "\n",
    "print(z)"
   ]
  },
  {
   "cell_type": "code",
   "execution_count": 93,
   "metadata": {},
   "outputs": [
    {
     "name": "stdout",
     "output_type": "stream",
     "text": [
      "[ 90. 180. 270. 360.]\n"
     ]
    }
   ],
   "source": [
    "x = np.array([np.pi/2, np.pi, 1.5*np.pi, 2*np.pi])\n",
    "\n",
    "z = np.rad2deg(x) # Radyan cinsinden dereceye çevirdik\n",
    "\n",
    "print(z)"
   ]
  },
  {
   "cell_type": "code",
   "execution_count": 94,
   "metadata": {},
   "outputs": [
    {
     "name": "stdout",
     "output_type": "stream",
     "text": [
      "1.5707963267948966\n"
     ]
    }
   ],
   "source": [
    "x = np.arcsin(1.0) # 1.0'ın arcsin değeri yani sin değeri 1.0 olan açının radaynı\n",
    "\n",
    "print(x)"
   ]
  },
  {
   "cell_type": "code",
   "execution_count": 95,
   "metadata": {},
   "outputs": [
    {
     "name": "stdout",
     "output_type": "stream",
     "text": [
      "13.0\n"
     ]
    }
   ],
   "source": [
    "x = np.hypot(5, 12) # Bu iki değerinin hipotenüs toplamını buluyor\n",
    "\n",
    "print(x)"
   ]
  },
  {
   "cell_type": "code",
   "execution_count": 96,
   "metadata": {},
   "outputs": [
    {
     "name": "stdout",
     "output_type": "stream",
     "text": [
      "2.3012989023072947\n"
     ]
    }
   ],
   "source": [
    "x = np.sinh(np.pi/2) # sinh değeri\n",
    "\n",
    "print(x)"
   ]
  },
  {
   "cell_type": "markdown",
   "metadata": {},
   "source": [
    "# Ders 8 Matris İşlemleri-2"
   ]
  },
  {
   "cell_type": "code",
   "execution_count": 97,
   "metadata": {},
   "outputs": [
    {
     "name": "stdout",
     "output_type": "stream",
     "text": [
      "[[0 1 2]\n",
      " [3 4 5]\n",
      " [6 7 8]]\n",
      "36\n",
      "[ 3 12 21]\n",
      "[ 9 12 15]\n",
      "0\n",
      "8\n",
      "0\n",
      "8\n"
     ]
    }
   ],
   "source": [
    "x=np.arange(9).reshape(3,3)\n",
    "print(x)\n",
    "print(np.sum(x)) # tüm elemanların toplamı\n",
    "print(np.sum(x,axis=1)) # her bir satırın kendi içinde toplamı\n",
    "print(np.sum(x,axis=0)) # her bir sütunun kendi içinde toplamı\n",
    "print(x.min()) # minimum eleman\n",
    "print(x.max()) # maksimum eleman\n",
    "print(x.argmin()) # minimum elemanın indisi\n",
    "print(x.argmax()) # maksimum elemanın indisi"
   ]
  },
  {
   "cell_type": "code",
   "execution_count": 98,
   "metadata": {},
   "outputs": [
    {
     "name": "stdout",
     "output_type": "stream",
     "text": [
      "4.5\n",
      "4.0\n",
      "2.5495097567963922\n"
     ]
    }
   ],
   "source": [
    "x=np.array([2,4,4,8,4,1,4,9])\n",
    "print(x.mean()) #aritmetik ortalama\n",
    "print(np.median(x)) # medyan\n",
    "print(x.std()) # standart sapma"
   ]
  },
  {
   "cell_type": "code",
   "execution_count": 99,
   "metadata": {},
   "outputs": [
    {
     "name": "stdout",
     "output_type": "stream",
     "text": [
      "[[3 5 2]\n",
      " [4 8 1]\n",
      " [1 2 3]]\n",
      "[2.66666667 5.         2.        ]\n",
      "[3. 4. 2.]\n"
     ]
    }
   ],
   "source": [
    "x=np.array([[3,5,2],[4,8,1],[1,2,3]]) \n",
    "print(x)\n",
    "print(x.mean(axis=0)) # her sütunun kendi içinde aritmetik ortalaması\n",
    "print(np.median(x,axis=1)) # her satırın kendi içinde medyanı"
   ]
  },
  {
   "cell_type": "markdown",
   "metadata": {},
   "source": [
    "# Ders 9 Broadcasting"
   ]
  },
  {
   "cell_type": "markdown",
   "metadata": {},
   "source": [
    "Numpy kütüphanesinde aritmetik işlem yaparken iki matrisin boyutları aynı olmalıdır. Fakat bunun bir istisnası var. Eğer eşit olmayan boyutlarından birinin boyutu 1 ise bu durumda aritmatik işlem yapılabilir. Örneğin 3x3 boyutlu bir matris ile 1x3 boyutlu matris toplanabilir. Burada 4x1 matrisi toplamadan önce 4x3 yapılır. Bunu python kendisi yapıyor bizim ek bir işlem yapmamıza gerek yok. Bu olaya broadcasting adı verilir. Fakat 5x1 matrisi ile 4x1 matrisi toplanamaz"
   ]
  },
  {
   "cell_type": "code",
   "execution_count": 100,
   "metadata": {},
   "outputs": [
    {
     "name": "stdout",
     "output_type": "stream",
     "text": [
      "[[0 1 2]\n",
      " [3 4 5]\n",
      " [6 7 8]]\n",
      "[[1 2 3]]\n",
      "[[ 1  3  5]\n",
      " [ 4  6  8]\n",
      " [ 7  9 11]]\n"
     ]
    }
   ],
   "source": [
    "x=np.arange(9).reshape(3,3)\n",
    "y=np.arange(1,4).reshape(1,3)\n",
    "print(x)\n",
    "print(y)\n",
    "print(x+y) \n",
    "# Toplama esnasında y matrisi buna dönüşüyor. Fakat toplama btince eski haline dönüyor\n",
    "# [[1 2 3]\n",
    "#  [1 2 3]\n",
    "#  [1 2 3]]"
   ]
  },
  {
   "cell_type": "code",
   "execution_count": 101,
   "metadata": {},
   "outputs": [
    {
     "name": "stdout",
     "output_type": "stream",
     "text": [
      "[[6]\n",
      " [7]\n",
      " [8]]\n",
      "[[1 2 3]]\n",
      "[[ 7  8  9]\n",
      " [ 8  9 10]\n",
      " [ 9 10 11]]\n"
     ]
    }
   ],
   "source": [
    "x=np.arange(6,9).reshape(3,1)\n",
    "y=np.arange(1,4).reshape(1,3)\n",
    "print(x)\n",
    "print(y)\n",
    "print(x+y)\n"
   ]
  },
  {
   "cell_type": "code",
   "execution_count": 102,
   "metadata": {},
   "outputs": [
    {
     "name": "stdout",
     "output_type": "stream",
     "text": [
      "[[6]\n",
      " [7]\n",
      " [8]\n",
      " [9]]\n",
      "[[1]\n",
      " [2]\n",
      " [3]\n",
      " [4]\n",
      " [5]]\n"
     ]
    },
    {
     "ename": "ValueError",
     "evalue": "operands could not be broadcast together with shapes (4,1) (5,1) ",
     "output_type": "error",
     "traceback": [
      "\u001b[1;31m---------------------------------------------------------------------------\u001b[0m",
      "\u001b[1;31mValueError\u001b[0m                                Traceback (most recent call last)",
      "\u001b[1;32m~\\AppData\\Local\\Temp\\ipykernel_6372\\2133392427.py\u001b[0m in \u001b[0;36m<module>\u001b[1;34m\u001b[0m\n\u001b[0;32m      5\u001b[0m \u001b[0mprint\u001b[0m\u001b[1;33m(\u001b[0m\u001b[0mx\u001b[0m\u001b[1;33m)\u001b[0m\u001b[1;33m\u001b[0m\u001b[1;33m\u001b[0m\u001b[0m\n\u001b[0;32m      6\u001b[0m \u001b[0mprint\u001b[0m\u001b[1;33m(\u001b[0m\u001b[0my\u001b[0m\u001b[1;33m)\u001b[0m\u001b[1;33m\u001b[0m\u001b[1;33m\u001b[0m\u001b[0m\n\u001b[1;32m----> 7\u001b[1;33m \u001b[0mprint\u001b[0m\u001b[1;33m(\u001b[0m\u001b[0mx\u001b[0m\u001b[1;33m+\u001b[0m\u001b[0my\u001b[0m\u001b[1;33m)\u001b[0m\u001b[1;33m\u001b[0m\u001b[1;33m\u001b[0m\u001b[0m\n\u001b[0m",
      "\u001b[1;31mValueError\u001b[0m: operands could not be broadcast together with shapes (4,1) (5,1) "
     ]
    }
   ],
   "source": [
    "# Burada hata alacaksınız çünkü bu iki matris broad castinge uygun değil\n",
    "\n",
    "x=np.arange(6,10).reshape(4,1)\n",
    "y=np.arange(1,6).reshape(5,1)\n",
    "print(x)\n",
    "print(y)\n",
    "print(x+y)"
   ]
  },
  {
   "cell_type": "markdown",
   "metadata": {},
   "source": [
    "# Ders 10 Random"
   ]
  },
  {
   "cell_type": "code",
   "execution_count": 103,
   "metadata": {},
   "outputs": [
    {
     "name": "stdout",
     "output_type": "stream",
     "text": [
      "5\n"
     ]
    }
   ],
   "source": [
    "x = np.random.randint(10) # 0 ile 10 arasında rastgele bir tamsayı döner. 10 dahil değil\n",
    "\n",
    "print(x)"
   ]
  },
  {
   "cell_type": "code",
   "execution_count": 104,
   "metadata": {},
   "outputs": [
    {
     "name": "stdout",
     "output_type": "stream",
     "text": [
      "[[6 7]\n",
      " [3 2]\n",
      " [4 6]]\n"
     ]
    }
   ],
   "source": [
    "x=np.random.randint(2,9,(3,2)) # 3x2 boyutunda 2 ile 9 arasında rastgele tam sayılarıdan oluşan matris, 9 dahil değil\n",
    "print(x)"
   ]
  },
  {
   "cell_type": "code",
   "execution_count": 105,
   "metadata": {},
   "outputs": [
    {
     "name": "stdout",
     "output_type": "stream",
     "text": [
      "[[0.59188458 0.67527719]\n",
      " [0.96241679 0.79018749]]\n"
     ]
    }
   ],
   "source": [
    "x=np.random.random((2,2)) # 2x2 boyutunda 0 ile 1 arasındaki rastgele değerlerden oluşan matris. 1 dahil değil\n",
    "print(x)"
   ]
  },
  {
   "cell_type": "code",
   "execution_count": 106,
   "metadata": {},
   "outputs": [
    {
     "name": "stdout",
     "output_type": "stream",
     "text": [
      "0.17113375173871148\n"
     ]
    }
   ],
   "source": [
    "x = np.random.rand()  # 0 ile 1 arasında bir rastgele sayı üretir\n",
    "\n",
    "print(x)"
   ]
  },
  {
   "cell_type": "code",
   "execution_count": 107,
   "metadata": {},
   "outputs": [
    {
     "name": "stdout",
     "output_type": "stream",
     "text": [
      "5\n"
     ]
    }
   ],
   "source": [
    "x =np.random.choice([3, 5, 7, 9]) # Bu listeden rastgele bir eleman seçer\n",
    "\n",
    "print(x)"
   ]
  },
  {
   "cell_type": "code",
   "execution_count": 108,
   "metadata": {},
   "outputs": [
    {
     "name": "stdout",
     "output_type": "stream",
     "text": [
      "[[2 2 5 2]\n",
      " [9 5 2 5]]\n"
     ]
    }
   ],
   "source": [
    "x = np.random.choice([2, 5, 6, 9], size=(2, 4)) # 2x4 boyutunda bu listenin elemanlarından bir matris oluşturur\n",
    "\n",
    "print(x)"
   ]
  },
  {
   "cell_type": "code",
   "execution_count": 109,
   "metadata": {},
   "outputs": [
    {
     "name": "stdout",
     "output_type": "stream",
     "text": [
      "[4 5 5 5 4 5 4 1 4 5]\n"
     ]
    }
   ],
   "source": [
    "#Burada 10 elemanlı bir vektör oluşturuyor. ilk listedeki elemanları kullanıyor. \n",
    "# p ise bu listedeki elemanların yeni vektörde ne kadar olasılık ile olacağını gösteren bir başka liste\n",
    "# Ama illa bu bunun aynısı dağılıma sahip olmuyor.\n",
    "x = np.random.choice([1, 4, 5, 9], p=[0.1, 0.3, 0.6, 0.0], size=(10))\n",
    "\n",
    "print(x)"
   ]
  },
  {
   "cell_type": "code",
   "execution_count": 110,
   "metadata": {},
   "outputs": [
    {
     "name": "stdout",
     "output_type": "stream",
     "text": [
      "[[5 4 4 5 5]\n",
      " [5 4 4 5 5]\n",
      " [5 1 5 4 4]]\n"
     ]
    }
   ],
   "source": [
    "# Yukarıdaki işlemi 3x5 boyutlarındaki bir matris oluşması için için modifiye ettik\n",
    "x = np.random.choice([1, 4, 5, 9], p=[0.1, 0.3, 0.6, 0.0], size=(3,5))\n",
    "\n",
    "print(x)"
   ]
  },
  {
   "cell_type": "code",
   "execution_count": 111,
   "metadata": {},
   "outputs": [
    {
     "name": "stdout",
     "output_type": "stream",
     "text": [
      "[4 1 5 2 3]\n"
     ]
    }
   ],
   "source": [
    "x = np.array([1, 2, 3, 4, 5])\n",
    "\n",
    "np.random.shuffle(x) # elemanların yerini değiştirdik. Vektörü karıştırdık da diyebiliriz\n",
    "\n",
    "print(x)"
   ]
  },
  {
   "cell_type": "code",
   "execution_count": 112,
   "metadata": {},
   "outputs": [
    {
     "name": "stdout",
     "output_type": "stream",
     "text": [
      "[1 2 3 4 5]\n",
      "[5 3 4 1 2]\n"
     ]
    }
   ],
   "source": [
    "x = np.array([1, 2, 3, 4, 5])\n",
    "np.random.permutation(x) # Bu şekilde de elemanları karıştırıdık. Ama bu işlem matrisin kendisini değiştirimiyor\n",
    "print(x)\n",
    "print(np.random.permutation(x))"
   ]
  },
  {
   "cell_type": "code",
   "execution_count": 113,
   "metadata": {},
   "outputs": [
    {
     "name": "stdout",
     "output_type": "stream",
     "text": [
      "[[ 0.13547153 -0.31091849 -1.64131674]\n",
      " [-0.98478746  0.79285678 -0.47716114]]\n"
     ]
    }
   ],
   "source": [
    "x = np.random.normal(size=(2, 3)) # Normal dağılıma sahip 2x3 boyutlarında bir matris\n",
    "\n",
    "print(x)  "
   ]
  },
  {
   "cell_type": "code",
   "execution_count": 114,
   "metadata": {},
   "outputs": [
    {
     "name": "stdout",
     "output_type": "stream",
     "text": [
      "[[ 0.90957993 -5.6780113  -3.43275932]\n",
      " [ 3.77013287  3.05525456  0.02141478]]\n"
     ]
    }
   ],
   "source": [
    "x = np.random.normal(loc=1, scale=2,size=(2, 3)) # \n",
    "#ortalaması 1 standart sapması 2 olan normal dağılıma sahip 2x3 boyutlarında bir matris\n",
    "\n",
    "print(x)  "
   ]
  },
  {
   "cell_type": "code",
   "execution_count": 115,
   "metadata": {},
   "outputs": [
    {
     "name": "stdout",
     "output_type": "stream",
     "text": [
      "[5 3 8 5 5 5 5 6 6 3]\n"
     ]
    }
   ],
   "source": [
    "#binom dağılımına sahip bir vektör\n",
    "x = np.random.binomial(n=10, p=0.5, size=10)\n",
    "print(x)  "
   ]
  },
  {
   "cell_type": "code",
   "execution_count": 116,
   "metadata": {},
   "outputs": [
    {
     "name": "stdout",
     "output_type": "stream",
     "text": [
      "[2 1 2 3 2 0 1 1 1 3]\n"
     ]
    }
   ],
   "source": [
    "# poisson dağılıma sahip bir matris\n",
    "x = np.random.poisson(lam=2, size=10)\n",
    "\n",
    "print(x)"
   ]
  },
  {
   "cell_type": "code",
   "execution_count": 117,
   "metadata": {},
   "outputs": [
    {
     "name": "stdout",
     "output_type": "stream",
     "text": [
      "[[0.95472968 0.62751746 0.53656923]\n",
      " [0.13566286 0.97878373 0.79662046]]\n"
     ]
    }
   ],
   "source": [
    "# uniform dağılıma sahip bir matris\n",
    "x = np.random.uniform(size=(2, 3))\n",
    "\n",
    "print(x)"
   ]
  }
 ],
 "metadata": {
  "kernelspec": {
   "display_name": "Python 3 (ipykernel)",
   "language": "python",
   "name": "python3"
  },
  "language_info": {
   "codemirror_mode": {
    "name": "ipython",
    "version": 3
   },
   "file_extension": ".py",
   "mimetype": "text/x-python",
   "name": "python",
   "nbconvert_exporter": "python",
   "pygments_lexer": "ipython3",
   "version": "3.9.13"
  }
 },
 "nbformat": 4,
 "nbformat_minor": 2
}
